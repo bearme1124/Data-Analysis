{
 "cells": [
  {
   "cell_type": "code",
   "execution_count": 5,
   "metadata": {},
   "outputs": [],
   "source": [
    "import pandas as pd\n",
    "myfile = 'kpop_idols.csv'\n",
    "df = pd.read_csv(myfile)"
   ]
  },
  {
   "cell_type": "markdown",
   "metadata": {},
   "source": [
    "### Column 선택"
   ]
  },
  {
   "cell_type": "code",
   "execution_count": 9,
   "metadata": {},
   "outputs": [
    {
     "data": {
      "text/plain": [
       "0       1996-12-31\n",
       "1       1992-08-28\n",
       "2       1999-10-25\n",
       "3       1999-09-27\n",
       "4       2001-02-21\n",
       "           ...    \n",
       "1305    1997-06-16\n",
       "1306    1994-06-09\n",
       "1307    2005-05-31\n",
       "1308    1996-07-04\n",
       "1309    1994-12-08\n",
       "Name: Date of Birth, Length: 1310, dtype: object"
      ]
     },
     "execution_count": 9,
     "metadata": {},
     "output_type": "execute_result"
    }
   ],
   "source": [
    "df['Date of Birth']"
   ]
  },
  {
   "cell_type": "code",
   "execution_count": null,
   "metadata": {},
   "outputs": [],
   "source": [
    "#df.Korean_Name"
   ]
  }
 ],
 "metadata": {
  "interpreter": {
   "hash": "04ba4e1c4ab1d54d5c4bad9ef6d4dfeb90915a555b5e8d04cfbea5c56f1d169c"
  },
  "kernelspec": {
   "display_name": "Python 3.9.7 64-bit ('base': conda)",
   "language": "python",
   "name": "python3"
  },
  "language_info": {
   "codemirror_mode": {
    "name": "ipython",
    "version": 3
   },
   "file_extension": ".py",
   "mimetype": "text/x-python",
   "name": "python",
   "nbconvert_exporter": "python",
   "pygments_lexer": "ipython3",
   "version": "3.9.7"
  },
  "orig_nbformat": 4
 },
 "nbformat": 4,
 "nbformat_minor": 2
}
