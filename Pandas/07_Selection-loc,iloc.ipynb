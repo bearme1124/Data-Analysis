{
 "cells": [
  {
   "cell_type": "code",
   "execution_count": 1,
   "metadata": {},
   "outputs": [],
   "source": [
    "import pandas as pd\n",
    "myfile = 'kpop_idols.csv'\n",
    "df = pd.read_csv(myfile)"
   ]
  },
  {
   "cell_type": "markdown",
   "metadata": {},
   "source": [
    "### 단순 index 대한 범위 선택"
   ]
  },
  {
   "cell_type": "code",
   "execution_count": 3,
   "metadata": {},
   "outputs": [
    {
     "data": {
      "text/html": [
       "<div>\n",
       "<style scoped>\n",
       "    .dataframe tbody tr th:only-of-type {\n",
       "        vertical-align: middle;\n",
       "    }\n",
       "\n",
       "    .dataframe tbody tr th {\n",
       "        vertical-align: top;\n",
       "    }\n",
       "\n",
       "    .dataframe thead th {\n",
       "        text-align: right;\n",
       "    }\n",
       "</style>\n",
       "<table border=\"1\" class=\"dataframe\">\n",
       "  <thead>\n",
       "    <tr style=\"text-align: right;\">\n",
       "      <th></th>\n",
       "      <th>Stage Name</th>\n",
       "      <th>Full Name</th>\n",
       "      <th>Korean Name</th>\n",
       "      <th>K. Stage Name</th>\n",
       "      <th>Date of Birth</th>\n",
       "      <th>Group</th>\n",
       "      <th>Country</th>\n",
       "      <th>Birthplace</th>\n",
       "      <th>Other Group</th>\n",
       "      <th>Gender</th>\n",
       "    </tr>\n",
       "  </thead>\n",
       "  <tbody>\n",
       "    <tr>\n",
       "      <th>0</th>\n",
       "      <td>A.M</td>\n",
       "      <td>Seong Hyunwoo</td>\n",
       "      <td>성현우</td>\n",
       "      <td>에이엠</td>\n",
       "      <td>1996-12-31</td>\n",
       "      <td>Limitless</td>\n",
       "      <td>South Korea</td>\n",
       "      <td>NaN</td>\n",
       "      <td>NaN</td>\n",
       "      <td>M</td>\n",
       "    </tr>\n",
       "    <tr>\n",
       "      <th>1</th>\n",
       "      <td>Ace</td>\n",
       "      <td>Jang Wooyoung</td>\n",
       "      <td>장우영</td>\n",
       "      <td>에이스</td>\n",
       "      <td>1992-08-28</td>\n",
       "      <td>VAV</td>\n",
       "      <td>South Korea</td>\n",
       "      <td>NaN</td>\n",
       "      <td>NaN</td>\n",
       "      <td>M</td>\n",
       "    </tr>\n",
       "    <tr>\n",
       "      <th>2</th>\n",
       "      <td>Aeji</td>\n",
       "      <td>Kwon Aeji</td>\n",
       "      <td>권애지</td>\n",
       "      <td>애지</td>\n",
       "      <td>1999-10-25</td>\n",
       "      <td>Hashtag</td>\n",
       "      <td>South Korea</td>\n",
       "      <td>Daegu</td>\n",
       "      <td>NaN</td>\n",
       "      <td>F</td>\n",
       "    </tr>\n",
       "  </tbody>\n",
       "</table>\n",
       "</div>"
      ],
      "text/plain": [
       "  Stage Name      Full Name Korean Name K. Stage Name Date of Birth  \\\n",
       "0        A.M  Seong Hyunwoo         성현우           에이엠    1996-12-31   \n",
       "1        Ace  Jang Wooyoung         장우영           에이스    1992-08-28   \n",
       "2       Aeji      Kwon Aeji         권애지            애지    1999-10-25   \n",
       "\n",
       "       Group      Country Birthplace Other Group Gender  \n",
       "0  Limitless  South Korea        NaN         NaN      M  \n",
       "1        VAV  South Korea        NaN         NaN      M  \n",
       "2    Hashtag  South Korea      Daegu         NaN      F  "
      ]
     },
     "execution_count": 3,
     "metadata": {},
     "output_type": "execute_result"
    }
   ],
   "source": [
    "df[:3]"
   ]
  },
  {
   "cell_type": "markdown",
   "metadata": {},
   "source": [
    "### loc & iloc"
   ]
  },
  {
   "cell_type": "markdown",
   "metadata": {},
   "source": [
    "- loc"
   ]
  },
  {
   "cell_type": "code",
   "execution_count": 5,
   "metadata": {},
   "outputs": [
    {
     "data": {
      "text/html": [
       "<div>\n",
       "<style scoped>\n",
       "    .dataframe tbody tr th:only-of-type {\n",
       "        vertical-align: middle;\n",
       "    }\n",
       "\n",
       "    .dataframe tbody tr th {\n",
       "        vertical-align: top;\n",
       "    }\n",
       "\n",
       "    .dataframe thead th {\n",
       "        text-align: right;\n",
       "    }\n",
       "</style>\n",
       "<table border=\"1\" class=\"dataframe\">\n",
       "  <thead>\n",
       "    <tr style=\"text-align: right;\">\n",
       "      <th></th>\n",
       "      <th>Korean Name</th>\n",
       "      <th>Date of Birth</th>\n",
       "    </tr>\n",
       "  </thead>\n",
       "  <tbody>\n",
       "    <tr>\n",
       "      <th>0</th>\n",
       "      <td>성현우</td>\n",
       "      <td>1996-12-31</td>\n",
       "    </tr>\n",
       "    <tr>\n",
       "      <th>1</th>\n",
       "      <td>장우영</td>\n",
       "      <td>1992-08-28</td>\n",
       "    </tr>\n",
       "    <tr>\n",
       "      <th>2</th>\n",
       "      <td>권애지</td>\n",
       "      <td>1999-10-25</td>\n",
       "    </tr>\n",
       "    <tr>\n",
       "      <th>3</th>\n",
       "      <td>이아인</td>\n",
       "      <td>1999-09-27</td>\n",
       "    </tr>\n",
       "    <tr>\n",
       "      <th>4</th>\n",
       "      <td>고아라</td>\n",
       "      <td>2001-02-21</td>\n",
       "    </tr>\n",
       "    <tr>\n",
       "      <th>...</th>\n",
       "      <td>...</td>\n",
       "      <td>...</td>\n",
       "    </tr>\n",
       "    <tr>\n",
       "      <th>1305</th>\n",
       "      <td>박희준</td>\n",
       "      <td>1997-06-16</td>\n",
       "    </tr>\n",
       "    <tr>\n",
       "      <th>1306</th>\n",
       "      <td>배진예</td>\n",
       "      <td>1994-06-09</td>\n",
       "    </tr>\n",
       "    <tr>\n",
       "      <th>1307</th>\n",
       "      <td>조혜원</td>\n",
       "      <td>2005-05-31</td>\n",
       "    </tr>\n",
       "    <tr>\n",
       "      <th>1308</th>\n",
       "      <td>백주호</td>\n",
       "      <td>1996-07-04</td>\n",
       "    </tr>\n",
       "    <tr>\n",
       "      <th>1309</th>\n",
       "      <td>김주미</td>\n",
       "      <td>1994-12-08</td>\n",
       "    </tr>\n",
       "  </tbody>\n",
       "</table>\n",
       "<p>1310 rows × 2 columns</p>\n",
       "</div>"
      ],
      "text/plain": [
       "     Korean Name Date of Birth\n",
       "0            성현우    1996-12-31\n",
       "1            장우영    1992-08-28\n",
       "2            권애지    1999-10-25\n",
       "3            이아인    1999-09-27\n",
       "4            고아라    2001-02-21\n",
       "...          ...           ...\n",
       "1305         박희준    1997-06-16\n",
       "1306         배진예    1994-06-09\n",
       "1307         조혜원    2005-05-31\n",
       "1308         백주호    1996-07-04\n",
       "1309         김주미    1994-12-08\n",
       "\n",
       "[1310 rows x 2 columns]"
      ]
     },
     "execution_count": 5,
     "metadata": {},
     "output_type": "execute_result"
    }
   ],
   "source": [
    "df.loc[:, ['Korean Name', 'Date of Birth']]"
   ]
  },
  {
   "cell_type": "code",
   "execution_count": 8,
   "metadata": {},
   "outputs": [
    {
     "data": {
      "text/html": [
       "<div>\n",
       "<style scoped>\n",
       "    .dataframe tbody tr th:only-of-type {\n",
       "        vertical-align: middle;\n",
       "    }\n",
       "\n",
       "    .dataframe tbody tr th {\n",
       "        vertical-align: top;\n",
       "    }\n",
       "\n",
       "    .dataframe thead th {\n",
       "        text-align: right;\n",
       "    }\n",
       "</style>\n",
       "<table border=\"1\" class=\"dataframe\">\n",
       "  <thead>\n",
       "    <tr style=\"text-align: right;\">\n",
       "      <th></th>\n",
       "      <th>Korean Name</th>\n",
       "      <th>Date of Birth</th>\n",
       "    </tr>\n",
       "  </thead>\n",
       "  <tbody>\n",
       "    <tr>\n",
       "      <th>3</th>\n",
       "      <td>이아인</td>\n",
       "      <td>1999-09-27</td>\n",
       "    </tr>\n",
       "    <tr>\n",
       "      <th>4</th>\n",
       "      <td>고아라</td>\n",
       "      <td>2001-02-21</td>\n",
       "    </tr>\n",
       "    <tr>\n",
       "      <th>5</th>\n",
       "      <td>조자영</td>\n",
       "      <td>1991-05-26</td>\n",
       "    </tr>\n",
       "    <tr>\n",
       "      <th>6</th>\n",
       "      <td>강아형</td>\n",
       "      <td>1996-08-27</td>\n",
       "    </tr>\n",
       "    <tr>\n",
       "      <th>7</th>\n",
       "      <td>이예진</td>\n",
       "      <td>1989-05-30</td>\n",
       "    </tr>\n",
       "    <tr>\n",
       "      <th>8</th>\n",
       "      <td>김희정</td>\n",
       "      <td>1991-07-13</td>\n",
       "    </tr>\n",
       "  </tbody>\n",
       "</table>\n",
       "</div>"
      ],
      "text/plain": [
       "  Korean Name Date of Birth\n",
       "3         이아인    1999-09-27\n",
       "4         고아라    2001-02-21\n",
       "5         조자영    1991-05-26\n",
       "6         강아형    1996-08-27\n",
       "7         이예진    1989-05-30\n",
       "8         김희정    1991-07-13"
      ]
     },
     "execution_count": 8,
     "metadata": {},
     "output_type": "execute_result"
    }
   ],
   "source": [
    "df.loc[3:8, ['Korean Name', 'Date of Birth']]\n",
    "# 끝 범위를 포함하는 것을 주의하라!!"
   ]
  },
  {
   "cell_type": "markdown",
   "metadata": {},
   "source": [
    "- iloc (position으로 색인)"
   ]
  },
  {
   "cell_type": "code",
   "execution_count": 9,
   "metadata": {},
   "outputs": [
    {
     "data": {
      "text/html": [
       "<div>\n",
       "<style scoped>\n",
       "    .dataframe tbody tr th:only-of-type {\n",
       "        vertical-align: middle;\n",
       "    }\n",
       "\n",
       "    .dataframe tbody tr th {\n",
       "        vertical-align: top;\n",
       "    }\n",
       "\n",
       "    .dataframe thead th {\n",
       "        text-align: right;\n",
       "    }\n",
       "</style>\n",
       "<table border=\"1\" class=\"dataframe\">\n",
       "  <thead>\n",
       "    <tr style=\"text-align: right;\">\n",
       "      <th></th>\n",
       "      <th>Full Name</th>\n",
       "      <th>K. Stage Name</th>\n",
       "    </tr>\n",
       "  </thead>\n",
       "  <tbody>\n",
       "    <tr>\n",
       "      <th>1</th>\n",
       "      <td>Jang Wooyoung</td>\n",
       "      <td>에이스</td>\n",
       "    </tr>\n",
       "    <tr>\n",
       "      <th>2</th>\n",
       "      <td>Kwon Aeji</td>\n",
       "      <td>애지</td>\n",
       "    </tr>\n",
       "  </tbody>\n",
       "</table>\n",
       "</div>"
      ],
      "text/plain": [
       "       Full Name K. Stage Name\n",
       "1  Jang Wooyoung           에이스\n",
       "2      Kwon Aeji            애지"
      ]
     },
     "execution_count": 9,
     "metadata": {},
     "output_type": "execute_result"
    }
   ],
   "source": [
    "df.iloc[1:3, [1, 3]]\n",
    "# 끝 범위를 포함하지 않는다!"
   ]
  }
 ],
 "metadata": {
  "interpreter": {
   "hash": "04ba4e1c4ab1d54d5c4bad9ef6d4dfeb90915a555b5e8d04cfbea5c56f1d169c"
  },
  "kernelspec": {
   "display_name": "Python 3.9.7 64-bit ('base': conda)",
   "language": "python",
   "name": "python3"
  },
  "language_info": {
   "codemirror_mode": {
    "name": "ipython",
    "version": 3
   },
   "file_extension": ".py",
   "mimetype": "text/x-python",
   "name": "python",
   "nbconvert_exporter": "python",
   "pygments_lexer": "ipython3",
   "version": "3.9.7"
  },
  "orig_nbformat": 4
 },
 "nbformat": 4,
 "nbformat_minor": 2
}
